{
  "cells": [
    {
      "cell_type": "markdown",
      "metadata": {
        "id": "CKxFB2KYPuPR"
      },
      "source": []
    },
    {
      "cell_type": "markdown",
      "metadata": {
        "id": "pJwLl8RPPwOB"
      },
      "source": [
        "# Object detection using yolov5 and common objects datasets from roboflow\n",
        "<p> by Abdulhameed Yunusa </p> - <a href=\"https://github.com/ayhameed\">Github</a>"
      ]
    },
    {
      "cell_type": "markdown",
      "metadata": {
        "id": "A9NQn2DvQAQl"
      },
      "source": [
        "## Connect to gdrive"
      ]
    },
    {
      "cell_type": "code",
      "execution_count": null,
      "metadata": {
        "colab": {
          "base_uri": "https://localhost:8080/"
        },
        "id": "G_cFNQJIP8qj",
        "outputId": "5fa8ea3c-8c32-484f-b528-d6d5c80e5e0a"
      },
      "outputs": [],
      "source": [
        "from google.colab import drive\n",
        "drive.mount('/content/drive')"
      ]
    },
    {
      "cell_type": "code",
      "execution_count": null,
      "metadata": {
        "colab": {
          "base_uri": "https://localhost:8080/"
        },
        "collapsed": true,
        "id": "2dW2KHLyQJNu",
        "outputId": "74f8f1db-24ad-4e51-e838-33f047731aec"
      },
      "outputs": [],
      "source": [
        "# Verify connection\n",
        "!ls \"/content/drive/My Drive\""
      ]
    },
    {
      "cell_type": "markdown",
      "metadata": {
        "id": "Jd2ZJMNgTn3k"
      },
      "source": [
        "# Setting Roboflow API Key"
      ]
    },
    {
      "cell_type": "markdown",
      "metadata": {
        "id": "qgJ7VXWhUtSb"
      },
      "source": [
        "## Store API key"
      ]
    },
    {
      "cell_type": "code",
      "execution_count": 9,
      "metadata": {
        "id": "FpldAanOQcs8"
      },
      "outputs": [],
      "source": [
        "# Store API key securely\n",
        "import os\n",
        "os.environ['ROBOFLOW_API_KEY'] = 'place-your-api-key-here'"
      ]
    },
    {
      "cell_type": "code",
      "execution_count": 10,
      "metadata": {
        "id": "JBwPfDx0VBx8"
      },
      "outputs": [],
      "source": [
        "# Get API key\n",
        "api_key = os.environ.get('ROBOFLOW_API_KEY')"
      ]
    },
    {
      "cell_type": "markdown",
      "metadata": {
        "id": "M9GT6NUZWCYL"
      },
      "source": [
        "## Initialize Roboflow"
      ]
    },
    {
      "cell_type": "code",
      "execution_count": null,
      "metadata": {
        "colab": {
          "base_uri": "https://localhost:8080/"
        },
        "collapsed": true,
        "id": "7MClvebtV-Km",
        "outputId": "4e9bbdf8-7f2e-43c2-820e-20266a82a2a8"
      },
      "outputs": [],
      "source": [
        "# Install roboflow if not already installed\n",
        "!pip install roboflow"
      ]
    },
    {
      "cell_type": "code",
      "execution_count": 7,
      "metadata": {
        "id": "yhUgAVpxWHcR"
      },
      "outputs": [],
      "source": [
        "# Import Roboflow\n",
        "from roboflow import Roboflow"
      ]
    },
    {
      "cell_type": "code",
      "execution_count": 11,
      "metadata": {
        "id": "wsEA_dWJWOao"
      },
      "outputs": [],
      "source": [
        "# Create an Instance of the Roboflow\n",
        "rf = Roboflow(api_key=api_key)"
      ]
    },
    {
      "cell_type": "code",
      "execution_count": null,
      "metadata": {
        "colab": {
          "base_uri": "https://localhost:8080/"
        },
        "id": "rB9iwiMUWVW5",
        "outputId": "c5d6f232-dd2c-4dbe-b26f-3d517baa6a4c"
      },
      "outputs": [],
      "source": [
        "# Test the connection\n",
        "workspace = rf.workspace()\n",
        "print(\"Successfully connected to Roboflow!\")"
      ]
    },
    {
      "cell_type": "markdown",
      "metadata": {
        "id": "CVrTcthYXw-I"
      },
      "source": [
        "## Seting up the Enviroment"
      ]
    },
    {
      "cell_type": "code",
      "execution_count": null,
      "metadata": {
        "colab": {
          "base_uri": "https://localhost:8080/"
        },
        "collapsed": true,
        "id": "ktoAwlrgWoCv",
        "outputId": "dbca1a7f-f6ac-4549-fc11-a1d026ca8a61"
      },
      "outputs": [],
      "source": [
        "# Install required packages\n",
        "!pip install torch torchvision\n",
        "!pip install opencv-python-headless"
      ]
    },
    {
      "cell_type": "code",
      "execution_count": 65,
      "metadata": {
        "id": "zceu21-jk0BV"
      },
      "outputs": [],
      "source": [
        "%matplotlib inline"
      ]
    },
    {
      "cell_type": "code",
      "execution_count": null,
      "metadata": {
        "colab": {
          "base_uri": "https://localhost:8080/"
        },
        "id": "fzaR1-6vdO3F",
        "outputId": "e5dadfd6-4c4b-43b4-81c6-88bb07df6b19"
      },
      "outputs": [],
      "source": [
        "!git clone https://github.com/ultralytics/yolov5"
      ]
    },
    {
      "cell_type": "code",
      "execution_count": null,
      "metadata": {
        "colab": {
          "base_uri": "https://localhost:8080/"
        },
        "collapsed": true,
        "id": "nDrfp_Q5dRRJ",
        "outputId": "a2113dad-66af-437c-fd4f-24380b15cdc4"
      },
      "outputs": [],
      "source": [
        "# Install YOLOv5 requirements\n",
        "%cd yolov5\n",
        "!pip install -r requirements.txt"
      ]
    },
    {
      "cell_type": "code",
      "execution_count": 51,
      "metadata": {
        "id": "KvwEx54zdUQI"
      },
      "outputs": [],
      "source": [
        "# Import all necessary libraries\n",
        "import torch\n",
        "import cv2\n",
        "from IPython.display import display, Image\n",
        "from google.colab import files\n",
        "import matplotlib.pyplot as plt\n",
        "import matplotlib.patches as patches\n",
        "from matplotlib.patches import Rectangle\n",
        "import matplotlib.image as mpimg\n",
        "from pathlib import Path\n",
        "import numpy as np\n",
        "import os"
      ]
    },
    {
      "cell_type": "markdown",
      "metadata": {
        "id": "mhbMtnHAZZ2V"
      },
      "source": [
        "## Load Pre-trained Model"
      ]
    },
    {
      "cell_type": "code",
      "execution_count": null,
      "metadata": {
        "colab": {
          "base_uri": "https://localhost:8080/"
        },
        "id": "c7FHJNq_YawF",
        "outputId": "bf94a1b2-a97f-4831-d176-c8de9a1ae503"
      },
      "outputs": [],
      "source": [
        "# Load YOLOv5s (small model) with pre-trained weights\n",
        "model = torch.hub.load('ultralytics/yolov5', 'yolov5s', pretrained=True)"
      ]
    },
    {
      "cell_type": "markdown",
      "metadata": {
        "id": "T9IOR_1yd0Si"
      },
      "source": [
        "## Object detection function"
      ]
    },
    {
      "cell_type": "code",
      "execution_count": 69,
      "metadata": {
        "id": "Ba9CMq86d0Dw"
      },
      "outputs": [],
      "source": [
        "def detect_and_display_objects(image_path):\n",
        "    \"\"\"\n",
        "    Detect objects in an image and display results\n",
        "    \"\"\"\n",
        "    # Load model\n",
        "    model = torch.hub.load('ultralytics/yolov5', 'yolov5s', pretrained=True)\n",
        "\n",
        "    # Perform inference\n",
        "    results = model(image_path)\n",
        "\n",
        "    # Get prediction results\n",
        "    result_image = results.render()[0]  # returns RGB numpy array\n",
        "\n",
        "    # Convert from RGB to BGR (for cv2)\n",
        "    result_image = cv2.cvtColor(result_image, cv2.COLOR_RGB2BGR)\n",
        "\n",
        "    # Display using matplotlib\n",
        "    plt.figure(figsize=(15,10))\n",
        "    plt.imshow(cv2.cvtColor(result_image, cv2.COLOR_BGR2RGB))\n",
        "    plt.axis('off')\n",
        "    plt.show()\n",
        "\n",
        "    # Print detected objects with confidence\n",
        "    df = results.pandas().xyxy[0]\n",
        "    if len(df) > 0:\n",
        "        print(\"\\nDetected objects:\")\n",
        "        for idx, row in df.iterrows():\n",
        "            print(f\"{row['name']} (Confidence: {row['confidence']:.2%})\")\n",
        "    else:\n",
        "        print(\"\\nNo objects detected\")\n",
        "\n",
        "    return results"
      ]
    },
    {
      "cell_type": "code",
      "execution_count": null,
      "metadata": {
        "colab": {
          "base_uri": "https://localhost:8080/",
          "height": 1000
        },
        "collapsed": true,
        "id": "24PY6yWBcmHG",
        "outputId": "903f27d8-dc77-4850-fa47-601a785bc4fb"
      },
      "outputs": [],
      "source": [
        "# For new image upload\n",
        "print(\"Please upload an image...\")\n",
        "uploaded = files.upload()\n",
        "filename = list(uploaded.keys())[0]\n",
        "\n",
        "# Detect and display\n",
        "results = detect_and_display_objects(filename)\n"
      ]
    },
    {
      "cell_type": "code",
      "execution_count": null,
      "metadata": {
        "colab": {
          "base_uri": "https://localhost:8080/"
        },
        "id": "9NA9DYQJgRko",
        "outputId": "698a3849-cf83-46e7-f5ae-8e67fc51a948"
      },
      "outputs": [],
      "source": [
        "# Optional: Save the results\n",
        "save_path = 'detection_result_2.jpg'\n",
        "cv2.imwrite(save_path, cv2.cvtColor(results.render()[0], cv2.COLOR_RGB2BGR))\n",
        "print(f\"\\nResults saved as '{save_path}'\")"
      ]
    },
    {
      "cell_type": "code",
      "execution_count": null,
      "metadata": {
        "colab": {
          "base_uri": "https://localhost:8080/",
          "height": 854
        },
        "id": "txiIw7QJidW2",
        "outputId": "685179bf-46ac-4210-80e3-f82870ab2fc7"
      },
      "outputs": [],
      "source": [
        "def display_with_confidence(image_path, confidence_threshold=0.25):\n",
        "\n",
        "    # Load model\n",
        "    model = torch.hub.load('ultralytics/yolov5', 'yolov5s', pretrained=True)\n",
        "\n",
        "    # Set confidence threshold\n",
        "    model.conf = confidence_threshold\n",
        "\n",
        "    # Perform inference\n",
        "    results = model(image_path)\n",
        "\n",
        "    # Get results as pandas dataframe\n",
        "    df = results.pandas().xyxy[0]\n",
        "\n",
        "    # Load the image\n",
        "    img = Image.open(image_path)\n",
        "\n",
        "    # Plot the image with bounding boxes\n",
        "    fig, ax = plt.subplots(1)\n",
        "    ax.imshow(img)\n",
        "\n",
        "    # Add bounding boxes\n",
        "    for idx, row in df.iterrows():\n",
        "        xmin, ymin, xmax, ymax = row['xmin'], row['ymin'], row['xmax'], row['ymax']\n",
        "        rect = patches.Rectangle((xmin, ymin), xmax - xmin, ymax - ymin, linewidth=2, edgecolor='r', facecolor='none')\n",
        "        ax.add_patch(rect)\n",
        "        ax.text(xmin, ymin, f\"{row['name']} {row['confidence']:.2%}\", color='white', fontsize=12,\n",
        "                bbox=dict(facecolor='red', alpha=0.5))\n",
        "\n",
        "    # Display the result\n",
        "    plt.show()\n",
        "\n",
        "    # Print detailed results\n",
        "    print(\"\\nDetailed Detection Results:\")\n",
        "    for idx, row in df.iterrows():\n",
        "        print(f\"Object {idx+1}:\")\n",
        "        print(f\"- Class: {row['name']}\")\n",
        "        print(f\"- Confidence: {row['confidence']:.2%}\")\n",
        "        print(f\"- Bounding Box: ({row['xmin']:.0f}, {row['ymin']:.0f}) to ({row['xmax']:.0f}, {row['ymax']:.0f})\")\n",
        "        print()\n",
        "\n",
        "# Example usage\n",
        "display_with_confidence('detection_result_2.jpg', confidence_threshold=0.25)"
      ]
    }
  ],
  "metadata": {
    "colab": {
      "provenance": []
    },
    "kernelspec": {
      "display_name": "Python 3",
      "name": "python3"
    },
    "language_info": {
      "name": "python"
    }
  },
  "nbformat": 4,
  "nbformat_minor": 0
}
